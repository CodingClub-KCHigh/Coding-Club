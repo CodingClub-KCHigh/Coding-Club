{
 "cells": [
  {
   "cell_type": "markdown",
   "id": "hollow-rebound",
   "metadata": {},
   "source": [
    "# Lists and loops"
   ]
  },
  {
   "cell_type": "markdown",
   "id": "filled-wonder",
   "metadata": {},
   "source": [
    "Simple:"
   ]
  },
  {
   "cell_type": "code",
   "execution_count": 10,
   "id": "assisted-jungle",
   "metadata": {},
   "outputs": [],
   "source": [
    "names = [\"Joe\", \"Kelly\", \"Jacob\", \"William\", \"Jason\"]\n",
    "ages = [19, 19, 20, 19, 20]\n",
    "heights=[(age/2)-3.6 for age in ages]\n",
    "names_ages_heights=list(zip(names, ages, heights))"
   ]
  },
  {
   "cell_type": "markdown",
   "id": "joint-pharmacy",
   "metadata": {},
   "source": [
    "Challenging:"
   ]
  },
  {
   "cell_type": "code",
   "execution_count": 14,
   "id": "vertical-eating",
   "metadata": {},
   "outputs": [],
   "source": [
    "over_50 = [num for num in range(1, 101) if num>50]"
   ]
  }
 ],
 "metadata": {
  "kernelspec": {
   "display_name": "Python 3",
   "language": "python",
   "name": "python3"
  },
  "language_info": {
   "codemirror_mode": {
    "name": "ipython",
    "version": 3
   },
   "file_extension": ".py",
   "mimetype": "text/x-python",
   "name": "python",
   "nbconvert_exporter": "python",
   "pygments_lexer": "ipython3",
   "version": "3.9.0"
  }
 },
 "nbformat": 4,
 "nbformat_minor": 5
}
