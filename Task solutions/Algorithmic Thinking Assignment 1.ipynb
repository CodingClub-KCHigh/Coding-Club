{
 "cells": [
  {
   "cell_type": "code",
   "execution_count": null,
   "id": "imposed-confirmation",
   "metadata": {},
   "outputs": [],
   "source": [
    "def rain_count(r1,r2,r3,r4,r5):\n",
    "    total=0\n",
    "\n",
    "    if r1>10:\n",
    "        total+=(r1-10)\n",
    "        total += r2\n",
    "    elif r1<10:\n",
    "        total=0\n",
    "        \n",
    "    if r2>10:\n",
    "        total+=(r2-10)\n",
    "        total += r3\n",
    "    elif r2<10:\n",
    "        total=0\n",
    "        \n",
    "    if r3>10:\n",
    "        total+=(r3-10)\n",
    "        total += r4\n",
    "    elif r3<10:\n",
    "        total=0\n",
    "        \n",
    "    if r4>10:\n",
    "        total+=(r4-10)\n",
    "        total += r5\n",
    "    elif r4<10:\n",
    "        total=0\n",
    "        \n",
    "    if r5>10:\n",
    "        total+=(r5-10)\n",
    "    elif r5<10:\n",
    "        total=0\n",
    "        \n",
    "    return total\n",
    "\n",
    "print(rain_count(12, 9, 10, 7, 13)) # Output: 3\n"
   ]
  }
 ],
 "metadata": {
  "kernelspec": {
   "display_name": "Python 3",
   "language": "python",
   "name": "python3"
  },
  "language_info": {
   "codemirror_mode": {
    "name": "ipython",
    "version": 3
   },
   "file_extension": ".py",
   "mimetype": "text/x-python",
   "name": "python",
   "nbconvert_exporter": "python",
   "pygments_lexer": "ipython3",
   "version": "3.9.0"
  }
 },
 "nbformat": 4,
 "nbformat_minor": 5
}
