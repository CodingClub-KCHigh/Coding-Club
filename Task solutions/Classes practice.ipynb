{
 "cells": [
  {
   "cell_type": "markdown",
   "metadata": {},
   "source": [
    "Create a circle class with a constructor that takes in the circle's radius\n",
    "\n",
    "Create a class variable called Pi which is equal to 3.14. Create methods that will \n",
    "calculate  the circumference of the circle, the area, as well as the area of it's semicircle and quarter circle.\n",
    "\n",
    "\n",
    "Challenge: Create  a method which takes in an angle and returns the area of the sector it forms\n",
    "\n",
    "\n",
    "\n",
    "Create another class called conversions which does not have a constructor. \n",
    "\n",
    "Create a method which converts celsius to fahrenheit\n",
    "Create a method which converts fahrenheit to celsius\n",
    "Create a method which converts degrees to radians\n",
    "Create a method which converts radian to degrees\n",
    "Create a method which converts celsius to Kelvin and another method for fahrenheit to kelvin"
   ]
  },
  {
   "cell_type": "code",
   "execution_count": 2,
   "metadata": {},
   "outputs": [],
   "source": [
    "class Circle:\n",
    "    pi=3.14\n",
    "    def __init__(self, radius):\n",
    "        self.radius=radius\n",
    "        \n",
    "    def circumference(self):\n",
    "        return Circle.pi*(self.radius*2)\n",
    "    \n",
    "    def area(self):\n",
    "        return Circle.pi*self.radius**2\n",
    "    \n",
    "    def semicircle_area(self):\n",
    "        return (Circle.pi*(self.radius*2))/2\n",
    "    \n",
    "    def quadrant_area(self):\n",
    "        return (Circle.pi*(self.radius*2))/4\n",
    "    \n",
    "    def sector_area(self, angle):\n",
    "        return (angle/360)*(Circle.pi*self.radius**2)   "
   ]
  },
  {
   "cell_type": "code",
   "execution_count": 6,
   "metadata": {},
   "outputs": [],
   "source": [
    "class Conversions:\n",
    "    pi=3.14\n",
    "    def celsius_to_fahrenheit(self, temperature_c):\n",
    "        return temperature_c*(9/5)+32\n",
    "    \n",
    "    def fahrenheit_to_celsius(self, temperature_f):\n",
    "        return (temperature_f-32)*(5/9)\n",
    "    \n",
    "    def celsius_to_kelvin(self, temperature_c):\n",
    "        return temperature_c+273.15\n",
    "    \n",
    "    def fahrenheit_to_kelvin(self, temperature_f):\n",
    "        return (temperature_f-32)*(5/9)+273.15\n",
    "    \n",
    "    def degrees_to_radians(self, angle_d):\n",
    "        return angle_d*(Conversions.pi/180)\n",
    "    \n",
    "    def radians_to_degrees(self, angle_r):\n",
    "        return angle_r*(180/Conversions.pi)"
   ]
  },
  {
   "cell_type": "markdown",
   "metadata": {},
   "source": [
    "# Best Practice"
   ]
  },
  {
   "cell_type": "code",
   "execution_count": 10,
   "metadata": {},
   "outputs": [],
   "source": [
    "class Circle:\n",
    "    pi=3.14\n",
    "    def __init__(self, radius):\n",
    "        self.radius=radius\n",
    "        \n",
    "    def circumference(self):\n",
    "        return Circle.pi*(self.radius*2)\n",
    "    \n",
    "    def area(self):\n",
    "        return Circle.pi*self.radius**2\n",
    "    \n",
    "    def semicircle_area(self):\n",
    "        return self.area()/2\n",
    "    \n",
    "    def quadrant_area(self):\n",
    "        return self.area()/4\n",
    "    \n",
    "    def sector_area(self, angle):\n",
    "        return (angle/360)*self.area()  "
   ]
  },
  {
   "cell_type": "code",
   "execution_count": null,
   "metadata": {},
   "outputs": [],
   "source": []
  }
 ],
 "metadata": {
  "kernelspec": {
   "display_name": "Python 3",
   "language": "python",
   "name": "python3"
  },
  "language_info": {
   "codemirror_mode": {
    "name": "ipython",
    "version": 3
   },
   "file_extension": ".py",
   "mimetype": "text/x-python",
   "name": "python",
   "nbconvert_exporter": "python",
   "pygments_lexer": "ipython3",
   "version": "3.8.5"
  }
 },
 "nbformat": 4,
 "nbformat_minor": 4
}
