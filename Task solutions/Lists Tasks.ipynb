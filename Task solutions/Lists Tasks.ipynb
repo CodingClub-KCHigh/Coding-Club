{
 "cells": [
  {
   "cell_type": "markdown",
   "id": "accompanied-anniversary",
   "metadata": {},
   "source": [
    "# Lists"
   ]
  },
  {
   "cell_type": "markdown",
   "id": "adaptive-cross",
   "metadata": {},
   "source": [
    "Simple:"
   ]
  },
  {
   "cell_type": "code",
   "execution_count": 1,
   "id": "german-conflict",
   "metadata": {},
   "outputs": [],
   "source": [
    "def last_element(lst):\n",
    "    return lst[-1]"
   ]
  },
  {
   "cell_type": "markdown",
   "id": "stable-champion",
   "metadata": {},
   "source": [
    "Challenging:"
   ]
  },
  {
   "cell_type": "code",
   "execution_count": 2,
   "id": "periodic-terminal",
   "metadata": {},
   "outputs": [],
   "source": [
    "def is_equal(lst1,lst2):\n",
    "    if lst1[0]==lst2[0] and lst1[-1]==lst2[-1]:\n",
    "        return True\n",
    "    else:\n",
    "        return False"
   ]
  }
 ],
 "metadata": {
  "kernelspec": {
   "display_name": "Python 3",
   "language": "python",
   "name": "python3"
  },
  "language_info": {
   "codemirror_mode": {
    "name": "ipython",
    "version": 3
   },
   "file_extension": ".py",
   "mimetype": "text/x-python",
   "name": "python",
   "nbconvert_exporter": "python",
   "pygments_lexer": "ipython3",
   "version": "3.9.0"
  }
 },
 "nbformat": 4,
 "nbformat_minor": 5
}
