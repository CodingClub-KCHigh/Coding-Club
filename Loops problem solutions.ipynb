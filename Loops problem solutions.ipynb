{
 "cells": [
  {
   "cell_type": "markdown",
   "id": "further-contrary",
   "metadata": {},
   "source": [
    "### Conditionals Questions\n",
    "\n",
    "Simple:"
   ]
  },
  {
   "cell_type": "code",
   "execution_count": null,
   "id": "bulgarian-encoding",
   "metadata": {},
   "outputs": [],
   "source": [
    "num1=int(input(\"Enter a number: \"))\n",
    "num2=int(input(\"Enter another number: \"))\n",
    "\n",
    "if num1>num2:\n",
    "    print(\"First number is larger\")\n",
    "elif num1<num2:\n",
    "    print(\"First number is smaller\")\n",
    "else:\n",
    "    print(\"Both numbers are equal\")"
   ]
  },
  {
   "cell_type": "markdown",
   "id": "solid-arctic",
   "metadata": {},
   "source": [
    "Challenging:"
   ]
  },
  {
   "cell_type": "code",
   "execution_count": null,
   "id": "sapphire-tooth",
   "metadata": {},
   "outputs": [],
   "source": [
    "num=int(input(\"Enter a number: \"))\n",
    "\n",
    "if num%2==0:  # The remainder of any even number divided by 2 must equal 0\n",
    "    print(str(num)+\" is even\")\n",
    "else:\n",
    "    print(str(num)+\" is odd\")"
   ]
  },
  {
   "cell_type": "markdown",
   "id": "reserved-aquatic",
   "metadata": {},
   "source": [
    "### Loops Questions"
   ]
  },
  {
   "cell_type": "markdown",
   "id": "analyzed-keeping",
   "metadata": {},
   "source": [
    "Simple:"
   ]
  },
  {
   "cell_type": "code",
   "execution_count": null,
   "id": "native-latex",
   "metadata": {},
   "outputs": [],
   "source": [
    "for i in range(1,101):\n",
    "    print(i**2)"
   ]
  },
  {
   "cell_type": "markdown",
   "id": "underlying-mixer",
   "metadata": {},
   "source": [
    "Challenging:"
   ]
  },
  {
   "cell_type": "code",
   "execution_count": null,
   "id": "destroyed-queensland",
   "metadata": {},
   "outputs": [],
   "source": [
    "num=int(input(\"Enter a number: \"))\n",
    "multiplier=1\n",
    "\n",
    "while num*multiplier<50:\n",
    "    print(num*multiplier)\n",
    "    multiplier+=1"
   ]
  }
 ],
 "metadata": {
  "kernelspec": {
   "display_name": "Python 3",
   "language": "python",
   "name": "python3"
  },
  "language_info": {
   "codemirror_mode": {
    "name": "ipython",
    "version": 3
   },
   "file_extension": ".py",
   "mimetype": "text/x-python",
   "name": "python",
   "nbconvert_exporter": "python",
   "pygments_lexer": "ipython3",
   "version": "3.9.0"
  }
 },
 "nbformat": 4,
 "nbformat_minor": 5
}
