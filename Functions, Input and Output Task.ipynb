{
 "cells": [
  {
   "cell_type": "markdown",
   "id": "correct-omega",
   "metadata": {},
   "source": [
    "### Functions, Input and Output:\n",
    "\n",
    "Simple:"
   ]
  },
  {
   "cell_type": "code",
   "execution_count": null,
   "id": "continued-indian",
   "metadata": {},
   "outputs": [],
   "source": [
    "name=input(\"Enter your name: \")\n",
    "print(\"Hello \"+name)"
   ]
  },
  {
   "cell_type": "markdown",
   "id": "assigned-yesterday",
   "metadata": {},
   "source": [
    "Challenging:"
   ]
  },
  {
   "cell_type": "code",
   "execution_count": null,
   "id": "confidential-price",
   "metadata": {},
   "outputs": [],
   "source": [
    "num1=int(input(\"Enter a number: \"))\n",
    "num2=int(input(\"Enter another number: \"))\n",
    "num3=num1+num2\n",
    "print(num3)"
   ]
  }
 ],
 "metadata": {
  "kernelspec": {
   "display_name": "Python 3",
   "language": "python",
   "name": "python3"
  },
  "language_info": {
   "codemirror_mode": {
    "name": "ipython",
    "version": 3
   },
   "file_extension": ".py",
   "mimetype": "text/x-python",
   "name": "python",
   "nbconvert_exporter": "python",
   "pygments_lexer": "ipython3",
   "version": "3.9.0"
  }
 },
 "nbformat": 4,
 "nbformat_minor": 5
}
